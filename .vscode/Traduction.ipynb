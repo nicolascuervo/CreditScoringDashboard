{
 "cells": [
  {
   "cell_type": "code",
   "execution_count": null,
   "metadata": {},
   "outputs": [],
   "source": [
    "def create_subtitles_file(file_path:str, file_name:str, model, **kwargs):\n",
    "    if not file_path.endswith('/'):\n",
    "        file_path = file_path + '/'\n",
    "    \n",
    "    model_transcription = model.transcribe(f\"{file_path}{file_name}\",**kwargs)\n",
    "    \n",
    "    lang = model_transcription['language']\n",
    "    # Write the results to an .srt file\n",
    "    with open(f'{file_path}{file_name.rsplit(\".\", 1)[0]}[{lang}].srt', 'w') as transcription_file:\n",
    "    \n",
    "\n",
    "        for i, segment in enumerate(model_transcription['segments'], start=1):\n",
    "            # Extract start and end times in hh:mm:ss,ms format\n",
    "            start_time = segment[\"start\"]\n",
    "            end_time = segment[\"end\"]\n",
    "            \n",
    "            # Format times into SRT format\n",
    "            start_str = f\"{int(start_time // 3600):02}:{int(start_time % 3600 // 60):02}:{int(start_time % 60):02},{int((start_time % 1) * 1000):03}\"\n",
    "            end_str = f\"{int(end_time // 3600):02}:{int(end_time % 3600 // 60):02}:{int(end_time % 60):02},{int((end_time % 1) * 1000):03}\"\n",
    "            \n",
    "\n",
    "            transcription_file.write(f\"{i}\\n\")\n",
    "            transcription_file.write(f\"{start_str} --> {end_str}\\n\")\n",
    "            transcription_file.write(f\"{segment['text']}\\n\\n\")\n",
    "\n",
    "            print(f\"{start_str} --> {end_str}\", f\"{segment['text']}\")\n"
   ]
  },
  {
   "cell_type": "code",
   "execution_count": null,
   "metadata": {},
   "outputs": [],
   "source": [
    "file_path=\"../data/trump_they_are_eating_the_dogs/\"\n",
    "file_name=\"trump_they_are_eating_the_dogs.mp4\"\n",
    "lang = 'fr'\n",
    "create_subtitles_file(file_path, file_name, model, language=lang, initial_prompt='Candidat aux elections presidentielles aux etâts unis dit que les migrants mangent les chiens et les chats')"
   ]
  },
  {
   "cell_type": "code",
   "execution_count": null,
   "metadata": {},
   "outputs": [],
   "source": [
    "file_path=\"../data/roberto_benigni_10_comandamenti/\"\n",
    "file_name=\"Sesto. Non commettere adulterio.mp4\"\n",
    "\n",
    "initial_prompt = 'The sixth comandment of the old testament. do not commit adultery. Poetically explained'\n",
    "\n",
    "result = model.transcribe(f\"{file_path}{file_name}\", initial_prompt=initial_prompt, language='en')\n"
   ]
  }
 ],
 "metadata": {
  "language_info": {
   "name": "python"
  }
 },
 "nbformat": 4,
 "nbformat_minor": 2
}
